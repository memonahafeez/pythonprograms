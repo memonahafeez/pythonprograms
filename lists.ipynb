{
  "nbformat": 4,
  "nbformat_minor": 0,
  "metadata": {
    "colab": {
      "provenance": [],
      "include_colab_link": true
    },
    "kernelspec": {
      "name": "python3",
      "display_name": "Python 3"
    },
    "language_info": {
      "name": "python"
    }
  },
  "cells": [
    {
      "cell_type": "markdown",
      "metadata": {
        "id": "view-in-github",
        "colab_type": "text"
      },
      "source": [
        "<a href=\"https://colab.research.google.com/github/memonahafeez/pythonprograms/blob/main/lists.ipynb\" target=\"_parent\"><img src=\"https://colab.research.google.com/assets/colab-badge.svg\" alt=\"Open In Colab\"/></a>"
      ]
    },
    {
      "cell_type": "markdown",
      "source": [
        "**Lists:**\n",
        "\n",
        "A list in Python is a collection of elements that are ordered and mutable.\n",
        "Elements in a list can be of any data type, and they are typically separated by commas and enclosed within square brackets [ ]."
      ],
      "metadata": {
        "id": "eNSmv-HHAlNl"
      }
    },
    {
      "cell_type": "markdown",
      "source": [
        "**Dictionaries:**\n",
        "\n",
        "A dictionary in Python is a collection of key-value pairs that are unordered and mutable.\n",
        "Each key in a dictionary is unique and associated with a specific value. Keys and values can be of any data type.\n",
        "Dictionaries are enclosed within curly braces { }, and key-value pairs are separated by colons :."
      ],
      "metadata": {
        "id": "3Oa9YFogA7WP"
      }
    },
    {
      "cell_type": "code",
      "source": [
        "my_list = [1, 2, 3, 4, 5]\n",
        "\n",
        "# Iterate over each element in the list using a for each loop\n",
        "for element in my_list:\n",
        "    print(element)\n"
      ],
      "metadata": {
        "colab": {
          "base_uri": "https://localhost:8080/"
        },
        "id": "51auRh1D_OGJ",
        "outputId": "86835c55-85fe-44de-bd5c-dd58f63b9523"
      },
      "execution_count": null,
      "outputs": [
        {
          "output_type": "stream",
          "name": "stdout",
          "text": [
            "1\n",
            "2\n",
            "3\n",
            "4\n",
            "5\n"
          ]
        }
      ]
    },
    {
      "cell_type": "code",
      "source": [
        "my_list1 = [1, 2, 3]\n",
        "# Define another list of elements to add\n",
        "my_list2 = [4, 5, 6]\n",
        "\n",
        "# Add elements to the list using extend()\n",
        "my_list1.extend(my_list2)\n",
        "\n",
        "# Print the updated list\n",
        "print( my_list1)\n"
      ],
      "metadata": {
        "colab": {
          "base_uri": "https://localhost:8080/"
        },
        "id": "Htraqqm--6Bv",
        "outputId": "349c911f-88b0-4e4a-a8cd-0e3cd60d4dba"
      },
      "execution_count": null,
      "outputs": [
        {
          "output_type": "stream",
          "name": "stdout",
          "text": [
            "[1, 2, 3, 4, 5, 6]\n"
          ]
        }
      ]
    },
    {
      "cell_type": "code",
      "execution_count": null,
      "metadata": {
        "colab": {
          "base_uri": "https://localhost:8080/"
        },
        "id": "hG4umZhQ8c1X",
        "outputId": "c4d30ce8-3000-49f3-eb55-d0887e914419"
      },
      "outputs": [
        {
          "output_type": "stream",
          "name": "stdout",
          "text": [
            "150\n"
          ]
        }
      ],
      "source": [
        "\n",
        "my_list = [10, 20, 30, 40, 50]\n",
        "\n",
        "# Initialize sum variable\n",
        "total_sum = 0\n",
        "\n",
        "for num in my_list:\n",
        "    total_sum += num\n",
        "\n",
        "# Print the sum\n",
        "print( total_sum)\n"
      ]
    },
    {
      "cell_type": "code",
      "source": [
        "# Define a list\n",
        "my_list = [1, 2, 3, 4, 5]\n",
        "\n",
        "# Reverse the order of elements in the list\n",
        "my_list.reverse()\n",
        "print(\"Reversed list:\", my_list)\n"
      ],
      "metadata": {
        "colab": {
          "base_uri": "https://localhost:8080/"
        },
        "id": "FRsWklp399RH",
        "outputId": "49fb22c7-9131-4124-cf46-787461222784"
      },
      "execution_count": null,
      "outputs": [
        {
          "output_type": "stream",
          "name": "stdout",
          "text": [
            "Reversed list: [5, 4, 3, 2, 1]\n"
          ]
        }
      ]
    },
    {
      "cell_type": "code",
      "source": [
        "\n",
        "my_list = [10, 20, 30, 40]\n",
        "\n",
        "# Remove the element 30 from the list\n",
        "my_list.remove(30)\n",
        "print(\"List after removing an element:\", my_list)\n"
      ],
      "metadata": {
        "colab": {
          "base_uri": "https://localhost:8080/"
        },
        "id": "p_cUaUbF-JPx",
        "outputId": "d8313920-2eb0-470d-97ee-2fc7ad2e2a56"
      },
      "execution_count": null,
      "outputs": [
        {
          "output_type": "stream",
          "name": "stdout",
          "text": [
            "List after removing an element: [10, 20, 40]\n"
          ]
        }
      ]
    },
    {
      "cell_type": "code",
      "source": [
        "my_list = [10, 20, 30, 40]\n",
        "\n",
        "# Insert an element at index 2\n",
        "my_list.insert(2, 25)\n",
        "\n",
        "# Print the updated list\n",
        "print( my_list)\n"
      ],
      "metadata": {
        "colab": {
          "base_uri": "https://localhost:8080/"
        },
        "id": "s_Ly-92Z-PHx",
        "outputId": "c8509dcb-10e9-4538-d98d-d2f82fd5bcaf"
      },
      "execution_count": null,
      "outputs": [
        {
          "output_type": "stream",
          "name": "stdout",
          "text": [
            "[10, 20, 25, 30, 40]\n"
          ]
        }
      ]
    },
    {
      "cell_type": "code",
      "source": [
        "\n",
        "my_list = []\n",
        "\n",
        "# Add elements to the list using append()\n",
        "my_list.append(10)\n",
        "my_list.append(20)\n",
        "my_list.append(30)\n",
        "\n",
        "# Print the updated list\n",
        "print( my_list)\n"
      ],
      "metadata": {
        "colab": {
          "base_uri": "https://localhost:8080/"
        },
        "id": "ANCFNnjS-VTO",
        "outputId": "fa02f506-774d-4d70-c14b-19ef1c0ee402"
      },
      "execution_count": null,
      "outputs": [
        {
          "output_type": "stream",
          "name": "stdout",
          "text": [
            "[10, 20, 30]\n"
          ]
        }
      ]
    },
    {
      "cell_type": "code",
      "source": [
        "# Define a list\n",
        "my_list = [10, 20, 30, 40, 50]\n",
        "\n",
        "# Find the length of the list using the len() function\n",
        "list_length = len(my_list)\n",
        "\n",
        "# Print the length of the list\n",
        "print(\"Length of the list:\", list_length)\n"
      ],
      "metadata": {
        "colab": {
          "base_uri": "https://localhost:8080/"
        },
        "id": "XTIf2oG4AITt",
        "outputId": "ba8a5430-3ed0-4bc5-8d2c-b884c111d906"
      },
      "execution_count": null,
      "outputs": [
        {
          "output_type": "stream",
          "name": "stdout",
          "text": [
            "Length of the list: 5\n"
          ]
        }
      ]
    },
    {
      "cell_type": "code",
      "source": [
        "\n",
        "my_list = []\n",
        "\n",
        "# Add elements to the list using append()\n",
        "my_list.append(\"apple\")\n",
        "my_list.append(\"banana\")\n",
        "my_list.append(\"orange\")\n",
        "\n",
        "# Print the updated list\n",
        "print( my_list)\n"
      ],
      "metadata": {
        "colab": {
          "base_uri": "https://localhost:8080/"
        },
        "id": "5T_75HsW-gBD",
        "outputId": "52b2f01b-ffa4-4ba1-fdbc-54038fecbb8f"
      },
      "execution_count": null,
      "outputs": [
        {
          "output_type": "stream",
          "name": "stdout",
          "text": [
            "['apple', 'banana', 'orange']\n"
          ]
        }
      ]
    },
    {
      "cell_type": "code",
      "source": [
        "# Define a dictionary\n",
        "my_dict = {'name': 'John', 'age': 30, 'city': 'New York'}\n",
        "\n",
        "# Remove a key from the dictionary\n",
        "key_to_remove = 'age'\n",
        "my_dict.pop(key_to_remove, None)\n",
        "\n",
        "# Print the updated dictionary\n",
        "print(\"Updated dictionary after removing the key:\", my_dict)\n"
      ],
      "metadata": {
        "colab": {
          "base_uri": "https://localhost:8080/"
        },
        "id": "_Y9FA1X7_mN2",
        "outputId": "d0541e8c-19ba-41f8-ad2a-26feb506d9e5"
      },
      "execution_count": null,
      "outputs": [
        {
          "output_type": "stream",
          "name": "stdout",
          "text": [
            "Updated dictionary after removing the key: {'name': 'John', 'city': 'New York'}\n"
          ]
        }
      ]
    },
    {
      "cell_type": "code",
      "source": [
        "# Define a dictionary\n",
        "my_dict = {'name': 'John', 'age': 30, 'city': 'New York'}\n",
        "\n",
        "# Find the length of the dictionary using the len() function\n",
        "dict_length = len(my_dict)\n",
        "\n",
        "# Print the length of the dictionary\n",
        "print(\"Length of the dictionary:\", dict_length)\n"
      ],
      "metadata": {
        "colab": {
          "base_uri": "https://localhost:8080/"
        },
        "id": "StlxBNhM_5sk",
        "outputId": "3f24d565-8bf1-4bca-c952-b079f7775586"
      },
      "execution_count": null,
      "outputs": [
        {
          "output_type": "stream",
          "name": "stdout",
          "text": [
            "Length of the dictionary: 3\n"
          ]
        }
      ]
    },
    {
      "cell_type": "code",
      "source": [
        "\n",
        "my_dict = {'name': 'John', 'age': 30, 'city': 'New York'}\n",
        "print(my_dict)\n"
      ],
      "metadata": {
        "colab": {
          "base_uri": "https://localhost:8080/"
        },
        "id": "qd9iaqFRA-2t",
        "outputId": "92e393a8-ec9d-4626-8eec-788905e8e175"
      },
      "execution_count": null,
      "outputs": [
        {
          "output_type": "stream",
          "name": "stdout",
          "text": [
            "{'name': 'John', 'age': 30, 'city': 'New York'}\n"
          ]
        }
      ]
    },
    {
      "cell_type": "code",
      "source": [
        "# Remove a key-value pair\n",
        "del my_dict['city']\n",
        "\n",
        "# Remove a key-value pair using pop()\n",
        "my_dict.pop('age')\n",
        "\n",
        "# Remove all key-value pairs\n",
        "my_dict.clear()\n",
        "\n",
        "print(\"Dictionary after removal:\", my_dict)\n"
      ],
      "metadata": {
        "colab": {
          "base_uri": "https://localhost:8080/"
        },
        "id": "_TpJtWAVBPpw",
        "outputId": "95fda033-8e5a-47f4-e834-492e57be3cd0"
      },
      "execution_count": null,
      "outputs": [
        {
          "output_type": "stream",
          "name": "stdout",
          "text": [
            "Dictionary after removal: {}\n"
          ]
        }
      ]
    },
    {
      "cell_type": "code",
      "source": [
        "# Find the length of the dictionary\n",
        "dict_length = len(my_dict)\n",
        "print(\"Length of the dictionary:\", dict_length)\n"
      ],
      "metadata": {
        "colab": {
          "base_uri": "https://localhost:8080/"
        },
        "id": "c5BLdSopBUjB",
        "outputId": "03d6e3a8-233a-4e5c-981d-c8a464cd3d1a"
      },
      "execution_count": null,
      "outputs": [
        {
          "output_type": "stream",
          "name": "stdout",
          "text": [
            "Length of the dictionary: 0\n"
          ]
        }
      ]
    }
  ]
}